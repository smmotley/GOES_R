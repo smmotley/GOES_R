{
 "cells": [
  {
   "cell_type": "markdown",
   "source": [
    "<h2>Fire Alerts Via GOES-R Fire Detection Algorithm</h2>\n",
    "\n",
    "The <b>GOES-17</b> satellite became operational in February 2019. One of the main functions of the satellite is fire track\n",
    "and intensity information.<br>\n",
    "The <b>purpose of this program</b> is to alert users to hotspots detected by the GOES-R satellite. The alert is \n",
    "designed to include an mp4 of a Fire/True-Color composite image from the GOES-R data.\n",
    "<div align=\"left\">\n",
    "<video src=\"fire_cur.mp4\" type=\"video/mp4\" width=\"300\" controls /></video></div>\n",
    " \n",
    " Additional information on the GOES-R hotspot detection algorithm can be found from: \n",
    " \n",
    " [GOES-R Hotspot Detection](https://www.goes-r.gov/products/baseline-fire-hot-spot.html)\n",
    " \n",
    " This program accomplishes this in three main steps:\n",
    " \n",
    " 1) Analyze the GOES-16/17 hotspot characterization netCDF files from the AWS S3 bucket.\n",
    " <br>2) For each file, if a hotspot is found:\n",
    "    <ul><li> Determine if it meets various criteria (e.g. proximity from user).\n",
    "    </li><li>Test if the hotspot is part of a larger complex of hotspots.\n",
    "    </li><li> Assign the hotspot an ID for future reference.  \n",
    "     </li></ul>\n",
    "  3) Alert the end user given various criteria (e.g. the hotspot is new). \n",
    " \n",
    " \n",
    "Breaking this down a bit further yields: <br>\n",
    "<ol>\n",
    "    <li> Temporarily download the necessary GOES-16/17 netCDF via AWS s3 bucket.</li>\n",
    "    <li> Analise the netCDF raster for points in band 7 (red) that are greater than 329K (133F). </li>\n",
    "    <li> If any points are > 329K:\n",
    "        <ul>\n",
    "            <li> Group points of the same fire together (this is based on distance of each point from another). </li>\n",
    "            <li> Determine if the fire group has already been designated as an \"active fire\" by CalFire.\n",
    "               <br> i) If so, ID this point with the CalFire indident ID.\n",
    "                <br>ii) if not, give it an arbitrary ID.\n",
    "            </li>\n",
    "            <li> Store the lat/lng, fire ID, and time of scan into the database.</li>\n",
    "        </ul>\n",
    "     </li>\n",
    "     <li>If active fire points were found, create an image for that scan and save it in the database.</li>\n",
    "</ol>\n",
    "     <h4> Note: Step 4 (image creation) is where most of the heavy lifting is done. </h4>\n",
    "        <br><b>Additional Work Needed<br></b>5) TODO: Alert user that a new fire has been found based on user's preferences (e.g. proximity to fire)\n",
    "            a) Send text / email with:\n",
    "                i) Link to CalFire's incident page for the fire (contained in csv that is downloaded)\n",
    "                ii) gif loop of the last 2 hours of data from the GOES satellite.\n",
    "                iii) Fire info relative to user (distance to fire, fire spread rate, etc)\n",
    "        TODO: Future: Determine frequency of scans based on fire risk, where fire risk is based on SPC fire outlook,\n",
    "                      redflag warnings, fire watches, or model output (e.g. wind gusts / low humidity).\n"
   ],
   "metadata": {
    "collapsed": false,
    "pycharm": {
     "name": "#%% md\n"
    }
   }
  },
  {
   "cell_type": "code",
   "execution_count": 1,
   "metadata": {
    "collapsed": true,
    "pycharm": {
     "is_executing": false
    }
   },
   "outputs": [],
   "source": [
    "from osgeo.gdalnumeric import *\n",
    "from pyproj import Proj, Geod, transform\n",
    "from functools import partial\n",
    "from datetime import datetime, timedelta\n",
    "import sqlite3\n",
    "import os, io, time\n",
    "import pandas as pd\n",
    "import boto3\n",
    "import numpy as np\n",
    "from mpl_toolkits.basemap import Basemap\n",
    "import matplotlib.pyplot as plt\n",
    "from matplotlib.patches import Circle\n",
    "import imageio\n",
    "from PIL import Image\n",
    "import shapely, shapely.ops\n",
    "from shapely.geometry import Point, MultiPoint\n",
    "import json\n",
    "import logging\n",
    "from GOES_Image_Creator import Fire_Image\n",
    "from noaa_aws import AwsGOES\n",
    "from timeloop import Timeloop\n",
    "import mailer\n"
   ]
  },
  {
   "cell_type": "code",
   "execution_count": null,
   "outputs": [],
   "source": [
    "## Setup Connection to Database.\n",
    "DB_PATH = 'db_jupyter.sqlite3'\n",
    "CONN = sqlite3.connect(DB_PATH, check_same_thread=False)\n",
    "CURSOR = CONN.cursor()\n"
   ],
   "metadata": {
    "collapsed": false,
    "pycharm": {
     "name": "#%%\n"
    }
   }
  },
  {
   "cell_type": "markdown",
   "source": [
    "A total of 4 tables were created in the database. \n",
    "<ol>\n",
    "<li><b> cal_fire:</b> This table is simply used to store the fire incident information from Cal Fire. \n",
    "               The data in the table are replaced with each pull from Cal Fire's website.</li>\n",
    "<li><b>fdfc_files_downloaded:</b> The idea here was to have a table to stores information about which\n",
    "files on the S3 bucket have already been examined. Basically, we don't want to download the data twice. \n",
    "Also, since the GOES multiband files (used for image creation) and FDFC files (aka fire hotspot files) \n",
    "are two seperate files, we need to ensure that each of the files are assoicated with similar scan times. \n",
    "In other words, we don't want to create an image from a GOES multiband scan taken at 12:30Z that is assocated with\n",
    "a GOES hotspot detection file from 06:45Z. Thus, this table will contain colums that tell us for a given\n",
    "FDFC file, what is the GOES multiband file that occured closest in time. \n",
    "</li>\n",
    "<li><b>goes_r_fire:</b> This table will store location information for every pixel determined to\n",
    "                        be an active fire by the GOES hotspot detection algorithm.   \n",
    "</li>\n",
    "<li><b>goes_r_images:</b> Contains images created by matplotlib / cartopy. This could contain \n",
    "                          an image for every single scan, but for now, it's only used to hold \n",
    "                          the image needed to create an mp4 video. \n",
    "</li>\n",
    "<li><b>user_alert_log:</b> This table provides a way to ensure that a user is alerted only once\n",
    "                            to any new fire. \n",
    "</li>\n",
    "<li><b>users:</b> User data. \n",
    "</ol>\n",
    "The code to create each table is as follows:  "
   ],
   "metadata": {
    "collapsed": false,
    "pycharm": {
     "name": "#%% md\n"
    }
   }
  },
  {
   "cell_type": "code",
   "execution_count": null,
   "outputs": [],
   "source": [
    "def create_calfire_table():\n",
    "    db_path = os.path.join(os.path.dirname(__file__), 'db_jupyter.sqlite3')\n",
    "    conn = sqlite3.connect(db_path)\n",
    "    c = conn.cursor()\n",
    "    c.execute(\"CREATE TABLE IF NOT EXISTS cal_fire(\"\n",
    "            \"incident_id TEXT PRIMARY KEY,\"\n",
    "            \"id INTEGER,\"\n",
    "            \"incident_name TEXT,\"\n",
    "            \"incident_is_final INTEGER,\"\n",
    "            \"incident_date_last_update DATETIME,\"\n",
    "            \"incident_date_created DATETIME,\"\n",
    "            \"incident_administrative_unit TEXT,\"\n",
    "            \"incident_administrative_unit_url TEXT,\"\n",
    "            \"incident_county TEXT,\"\n",
    "            \"incident_location TEXT,\"\n",
    "            \"incident_acres_burned INTEGER,\"\n",
    "            \"incident_containment INTEGER,\"\n",
    "            \"incident_control TEXT,\"\n",
    "            \"incident_cooperating_agencies TEXT,\"\n",
    "            \"incident_longitude FLOAT,\"\n",
    "            \"incident_latitude FLOAT,\"\n",
    "            \"incident_type TEXT,\"\n",
    "            \"incident_url TEXT,\"\n",
    "            \"incident_date_extinguished DATETIME,\"\n",
    "            \"incident_dateonly_extinguished DATETIME,\"\n",
    "            \"incident_dateonly_created DATETIME,\"\n",
    "            \"is_active INTEGER)\")\n",
    "\n",
    "\n",
    "\n",
    "\n",
    "def create_goes_r_fire_table():\n",
    "    db_path = os.path.join('db_jupyter.sqlite3')\n",
    "    conn = sqlite3.connect(db_path)\n",
    "    c = conn.cursor()\n",
    "    c.execute(\"CREATE TABLE IF NOT EXISTS goes_r_fire(\"\n",
    "              \"id INTEGER,\"\n",
    "              \"cal_fire_incident_id TEXT,\"\n",
    "              \"lat FLOAT,\"\n",
    "              \"lng FLOAT,\"\n",
    "              \"scan_dt DATETIME,\"\n",
    "              \"s3_filename TEXT,\"\n",
    "              \"fire_id INTEGER, \"\n",
    "              \"UNIQUE(lat, lng, scan_dt) ON CONFLICT REPLACE, \"\n",
    "              \"FOREIGN KEY (cal_fire_incident_id) REFERENCES cal_fire(incident_id),\"\n",
    "              \"FOREIGN KEY (scan_dt) REFERENCES goes_r_images(scan_dt))\")\n",
    "\n",
    "def create_goes_r_image_table():\n",
    "    db_path = os.path.join('db_jupyter.sqlite3')\n",
    "    conn = sqlite3.connect(db_path)\n",
    "    c = conn.cursor()\n",
    "    c.execute(\"CREATE TABLE IF NOT EXISTS goes_r_images(\"\n",
    "              \"id INTEGER,\"\n",
    "              \"scan_dt DATETIME,\"\n",
    "              \"fire_temp_image BLOB,\"\n",
    "              \"fire_temp_gif BLOB, \"\n",
    "              \"s3_filename TEXT,\"\n",
    "              \"FOREIGN KEY (scan_dt) REFERENCES goes_r_images(scan_dt))\")\n",
    "\n",
    "\n",
    "def create_user_table():\n",
    "    db_path = os.path.join('db_jupyter.sqlite3')\n",
    "    conn = sqlite3.connect(db_path)\n",
    "    c = conn.cursor()\n",
    "    c.execute(\"CREATE TABLE IF NOT EXISTS users(\"\n",
    "              \"id INTEGER,\"\n",
    "              \"user_id TEXT,\"\n",
    "              \"first_name TEXT,\"\n",
    "              \"last_name TEXT,\"\n",
    "              \"email TEXT, \"\n",
    "              \"alert_time_start DATETIME, \"\n",
    "              \"alert_time_end DATETIME, \"\n",
    "              \"user_lat FLOAT,\"\n",
    "              \"user_lng FLOAT,\"\n",
    "              \"fav_lat FLOAT,\"\n",
    "              \"fav_lng FLOAT,\"\n",
    "              \"last_alert DATETIME,\"\n",
    "              \"alerted_calfire_id TEXT,\"\n",
    "              \"UNIQUE(user_id, email) ON CONFLICT REPLACE)\")\n",
    "\n",
    "def create_user_alert_table():\n",
    "    db_path = os.path.join('db_jupyter.sqlite3')\n",
    "    conn = sqlite3.connect(db_path)\n",
    "    c = conn.cursor()\n",
    "    c.execute(\"CREATE TABLE IF NOT EXISTS user_alert_log(\"\n",
    "              \"id INTEGER,\"\n",
    "              \"user_id TEXT,\"\n",
    "              \"alerted_cal_fire_incident_id TEXT,\"\n",
    "              \"alerted_incident_id TEXT,\"\n",
    "              \"alert_time DATETIME,\"\n",
    "              \"need_to_alert INTEGER,\"\n",
    "              \"dist_to_fire FLOAT,\"\n",
    "              \"fire_lat FLOAT,\"\n",
    "              \"fire_lng FLOAT,\"\n",
    "              \"FOREIGN KEY (user_id) REFERENCES users(user_id))\")\n",
    "\n",
    "def create_downloaded_files_table():\n",
    "    db_path = os.path.join('db_jupyter.sqlite3')\n",
    "    conn = sqlite3.connect(db_path)\n",
    "    c = conn.cursor()\n",
    "    c.execute(\"CREATE TABLE IF NOT EXISTS fdfc_files_downloaded(\"\n",
    "              \"id INTEGER,\" \n",
    "              \"s3_filename_fdfc TEXT,\"\n",
    "              \"s3_filename_multiband TEXT,\"\n",
    "              \"new_fires INTEGER,\"\n",
    "              \" DATETIME)\")\n",
    "    "
   ],
   "metadata": {
    "collapsed": false,
    "pycharm": {
     "name": "#%%\n"
    }
   }
  },
  {
   "cell_type": "markdown",
   "source": [
    "<b> If needed, uncomment any of the code below to create the various tables"
   ],
   "metadata": {
    "collapsed": false,
    "pycharm": {
     "name": "#%% md\n"
    }
   }
  },
  {
   "cell_type": "code",
   "execution_count": null,
   "outputs": [],
   "source": [
    "#create_calfire_table()\n",
    "#create_goes_r_fire_table()\n",
    "#create_goes_r_image_table()\n",
    "#create_user_table()\n",
    "#create_user_alert_table()\n",
    "#create_downloaded_files_table()\n"
   ],
   "metadata": {
    "collapsed": false,
    "pycharm": {
     "name": "#%%\n"
    }
   }
  },
  {
   "cell_type": "markdown",
   "source": [
    "Create some dummy data for a user if needed. "
   ],
   "metadata": {
    "collapsed": false,
    "pycharm": {
     "name": "#%% md\n"
    }
   }
  },
  {
   "cell_type": "code",
   "execution_count": null,
   "outputs": [],
   "source": [
    "# sql = '''INSERT INTO users \n",
    "# (user_id, user_lat, user_lng) \n",
    "# VALUES (1, 38.5, -109.5)'''\n",
    "# CURSOR.execute(sql)\n",
    "# CONN.commit()\n"
   ],
   "metadata": {
    "collapsed": false,
    "pycharm": {
     "name": "#%%\n"
    }
   }
  },
  {
   "cell_type": "markdown",
   "source": [
    " <b>Now that the initial databases are set up we can proceed:\n"
   ],
   "metadata": {
    "collapsed": false,
    "pycharm": {
     "name": "#%% md\n"
    }
   }
  },
  {
   "cell_type": "code",
   "execution_count": null,
   "outputs": [],
   "source": [
    "## Setup Connection to Database.\n",
    "DB_PATH = 'db_jupyter.sqlite3'\n",
    "CONN = sqlite3.connect(DB_PATH, check_same_thread=False)\n",
    "CURSOR = CONN.cursor()\n",
    "\n",
    "\n",
    "# Search the S3 bucket for the first scan that occurred closest to the following time\n",
    "#first_scan = datetime.utcnow().strftime(\"%m/%d/%Y %H:%M\")\n",
    "first_scan = datetime.utcnow().strftime(\"07/29/2019 23:00\")\n",
    "\n",
    "# The number of hours to search for files after \"first_scan. If set to zero, this will get the latest scan.\n",
    "hours_of_data = 1\n",
    "\n",
    "# The noaa AWS resource is in an S3 bucket called 'noaa-goes##'\n",
    "s3 = boto3.resource('s3')\n",
    "bucket = 'noaa-goes17'\n",
    "\n",
    "# Object for the GOES fire detection files (i.e. FDCF) in the S3 bucket\n",
    "goes_hotspot = AwsGOES(\n",
    "                bands=['FDCF'],\n",
    "                bucket=bucket,\n",
    "                st_dt=first_scan,\n",
    "                hrs=hours_of_data)\n",
    "\n",
    "# Object for the GOES multiband files in the S3 bucket\n",
    "goes_multiband = AwsGOES(\n",
    "                bands=[7,8],\n",
    "                bucket=bucket,\n",
    "                st_dt=first_scan,\n",
    "                hrs=hours_of_data)\n",
    "\n",
    "goes_multiband_files = goes_multiband.bucket_files\n"
   ],
   "metadata": {
    "collapsed": false,
    "pycharm": {
     "name": "#%%\n"
    }
   }
  },
  {
   "cell_type": "markdown",
   "source": [
    "The GOES-R produces multiple products that are placed in the in the AWS bucket. \n",
    "[List Of Various Goes Products](https://www.goes-r.gov/products/baseline.html)\n",
    "\n",
    "\n",
    "Not all the files are produced at the same time (or at all). For example, files for the Multiband \n",
    "product are typically produced every ~5 minutes whereas the Fire Hotspot detection files \n",
    "(aka FDFC files) are produced every 10 minutes.\n",
    "\n",
    "For a given scan, we want to the files are that closest in time to one another. This method will return a\n",
    "dict of key/value pairs where:\n",
    "    \n",
    "   Key: Multiband filename and the value is the...<br>\n",
    "   Value: Hotspot detection filename whose creation date is closest in time to the Multiband file.\n"
   ],
   "metadata": {
    "collapsed": false,
    "pycharm": {
     "name": "#%% md\n"
    }
   }
  },
  {
   "cell_type": "code",
   "execution_count": null,
   "outputs": [],
   "source": [
    "def find_closest_file(multiband_files, hotspot_files):\n",
    "    \"\"\"\n",
    "    The GOES-R produces multiple products that are placed in the in the AWS bucket. Not all the files are produced\n",
    "    at the same time (or at all). For example, files for the Multiband product are typically produced\n",
    "    every ~5 minutes whereas the Fire Hotspot detection files (aka FDFC files) are produced every 10 minutes.\n",
    "\n",
    "    For a given scan, we want to the files are that closest in time to one another. This method will return a\n",
    "    dict of key/value pairs where:\n",
    "\n",
    "    Key: Multiband filename and the value is the...\n",
    "    Value: Hotspot detection filename whose creation date is closest in time to the Multiband file.\n",
    "\n",
    "    :param multiband_files: The file names of the Multiband files in the S3 bucket\n",
    "    :param hotspot_files: The files names of the hotspot detection files in the s3 bucket.\n",
    "    :return: Dict of key/value pairs where\n",
    "    Key: Multiband filename and the value is the\n",
    "    Value: Hotspot detection filename whose creation date is closest in time to the Multiband file.\n",
    "    \"\"\"\n",
    "\n",
    "    # Holder for file key/value pair dict.\n",
    "    file_combo = {}\n",
    "\n",
    "    # The naming convention of the files includes the timestamp in the filenames.\n",
    "    # There are three timestamps in the file name: The '_c' is the \"center\" between the start and end time.\n",
    "    # This will return a dict with a KEY: file path in the S3 bucket of the FDCF file and VALUE: the datetime of the scan.\n",
    "    hotspot_file_times = {fname: datetime.strptime((fname.split(\"_c\")[1]).replace('.nc',\"\"),\"%Y%j%H%M%S%f\")\n",
    "                          for fname in hotspot_files}\n",
    "\n",
    "\n",
    "    for mb in multiband_files:\n",
    "        # The naming convention of the files includes the timestamp in the filenames.\n",
    "        # There are three timestamps in the file name: The '_c' is the \"center\" between the start and end time.\n",
    "        mb_time = datetime.strptime((mb.split(\"_c\")[1]).replace('.nc',\"\"),\"%Y%j%H%M%S%f\")\n",
    "\n",
    "        # Returns the time of the hotspot file that is closest in time to the mb_time.\n",
    "        closest_hotspot_time = min(hotspot_file_times.values(), key=lambda t: abs(t-mb_time))\n",
    "\n",
    "        # From the list of FDCF filepaths, return the file path for the given time.\n",
    "        closest_hotspot_file = list(hotspot_file_times.keys())[list(hotspot_file_times.values()).index(closest_hotspot_time)]\n",
    "\n",
    "        timedelta = abs(closest_hotspot_time - mb_time)\n",
    "\n",
    "        # Append to dictionary\n",
    "        file_combo[mb] = closest_hotspot_file\n",
    "    return file_combo\n"
   ],
   "metadata": {
    "collapsed": false,
    "pycharm": {
     "name": "#%%\n"
    }
   }
  },
  {
   "cell_type": "code",
   "execution_count": null,
   "outputs": [],
   "source": [
    "# ALL_FILES contains a dict of key/values where the key is the multiband file and the value is the\n",
    "# most recent FDFC file to that particular multiband scan.\n",
    "ALL_FILES = find_closest_file(goes_multiband_files,goes_hotspot.bucket_files)\n",
    "\n",
    "CURSOR.execute(\"SELECT s3_filename_multiband FROM fdfc_files_downloaded\")\n",
    "already_examined = [item[0] for item in list(CURSOR.fetchall())]\n",
    "print(list(ALL_FILES.keys())[-1])\n"
   ],
   "metadata": {
    "collapsed": false,
    "pycharm": {
     "name": "#%%\n"
    }
   }
  },
  {
   "cell_type": "markdown",
   "source": [
    "<style type=\"text/css\">\n",
    " .tab { margin-left: 40px; }\n",
    "</style>\n",
    "We are now at the point where we have a list of all the files available in the s3 bucket from \n",
    "the past hour for <b> both </b> the multiband files and FDFC files. Now, the program needs to \n",
    "temporarily download any files that haven't been examined yet. \n",
    "<br><br><b>\n",
    "In the actual program, this is performed with a <code>for</code> loop as shown below.\n",
    "</b>\n",
    "<br>\n",
    "Since <code>ALL_FILES</code> is a dict where:\n",
    "<p class=\"tab\">\n",
    "<code>key</code>=multiband file path for a given time. <br>\n",
    "<code>value</code>=Hotspot detection file path for a the file scan occurring closest in time to the multiband file.\n",
    "</p>\n",
    "Since the jupyter notebook can't loop outside of each scope, \n",
    "we can just use <code>list(ALL_FILES.keys())[-1] </code> to reduce the sice of the array to use the most recent file\n"
   ],
   "metadata": {
    "collapsed": false,
    "pycharm": {
     "name": "#%% md\n"
    }
   }
  },
  {
   "cell_type": "code",
   "execution_count": null,
   "outputs": [],
   "source": [
    "# If you wanted to loop through every file, you would use the code in the next line below\n",
    "#for FILE in (FILE for FILE in ALL_FILES.keys() if FILE not in already_examined):\n",
    "# Get Lat/lng values of all active fire points via GOES-R FIRE/HOTSPOT Characterization:\n",
    "#C = goes_hotspot.download_file(ALL_FILES[FILE], goes_hotspot.bucket, s3)  # HOT SPOT DOWNLOAD\n",
    "\n",
    "# Get Lat/lng values of all active fire points via GOES-R FIRE/HOTSPOT Characterization:\n",
    "FILE = ALL_FILES[list(ALL_FILES.keys())[-1]]\n",
    "C = goes_hotspot.download_file(FILE, goes_hotspot.bucket, s3)  # HOT SPOT DOWNLOAD\n",
    "\n",
    "# Timestamp on Fire Characterization / Hotspot detection file.\n",
    "fdfc_seconds = int(np.ma.round(C.variables['t'][0], decimals=0))\n",
    "\n",
    "# Times reported in seconds since 2000-01-01 12:00:00\n",
    "fdfc_DATE = datetime(2000, 1, 1, 12) + timedelta(seconds=fdfc_seconds)\n",
    "\n",
    " # Load the RGB arrays for muti-band data\n",
    "FM = C.variables['Mask'][:].data  # Fire Mask\n",
    "FM = FM.astype(np.float64)"
   ],
   "metadata": {
    "collapsed": false,
    "pycharm": {
     "name": "#%%\n"
    }
   }
  },
  {
   "cell_type": "markdown",
   "source": [
    "<style>\n",
    "table {\n",
    "  font-family: arial, sans-serif;\n",
    "  border-collapse: collapse;\n",
    "  width: 100%;\n",
    "}\n",
    "\n",
    "td, th {\n",
    "  border: 1px solid #dddddd;\n",
    "  text-align: left;\n",
    "  padding: 8px;\n",
    "}\n",
    "\n",
    "tr:nth-child(even) {\n",
    "  background-color: #dddddd;\n",
    "}\n",
    "</style>\n",
    "\n",
    "   Excerpt from: https://www.ncdc.noaa.gov/sites/default/files/attachments/ABI_L2_FHS_Provisional_ReadMe_0.pdf\n",
    "    \n",
    "   *** Operational  users  who  have  the  lowest  tolerance  for  false  alarms should use the “processed”\n",
    "   and “saturated” categories (mask codes 10, 11, 30, and 31 marked in <font color='red'>red</font>), but understand there can still be false alarms. \n",
    "   From the data I have processed, each pixel can only have ONE code. For example, a fire pixel is either 10 or 30, but \n",
    "   not both. So when we get to our raster data, you'll see we have to check for both of these codes. \n",
    "    \n",
    "   <table> \n",
    "   <tr>\n",
    "        <th>Mask Codes</th>\n",
    "        <th>Description</th>\n",
    "    </tr>\n",
    "   <tr>\n",
    "        <td> -99 </td> \n",
    "        <td>Initialization value, should never appear in outputs</td>\n",
    "   </tr>\n",
    "   <tr>\n",
    "    <td>0</td>      \n",
    "        <td>Non-processed region of input/output image</td></tr>\n",
    "   <tr>\n",
    "    <td><b>10</td></b>   \n",
    "            <td><b>Processed fire pixel (codes 10 and 30):<br><font color='red'>The highest fire confidence category</font>, includes  FRP, \n",
    "                size, and temperature estimates.</td></tr></b>\n",
    "       \n",
    "   <tr>             \n",
    "    <td><b>11</td>    <td><b>Saturated fire pixel (codes 11 and 31): <br><font color='red'>Very high confidence</font> fires, but the pixel was at \n",
    "                                                                instrument saturation so no properties could be \n",
    "                                                                determined. \n",
    "                                                                </td></tr>\n",
    "    <tr>                                                            \n",
    "    <td>12</td>    <td>Cloud contaminated fire pixel (codes 12 and 32): <br>   A moderate confidence fire that appears to be \n",
    "                                                                partially obscured by cloud; intended for users with \n",
    "                                                                a high tolerance for false alarms.\n",
    "                                                                </td></tr>\n",
    "    <tr>                                                            \n",
    "    <td>13</td>    <td>High probability fire pixel (codes 13 and 33):<br>      A possible fire with a lower thermal signature than \n",
    "                                                                needed to be deemed a Processed fire pixel; \n",
    "                                                                FRP is calculated for these pixels; intended for \n",
    "                                                                userswith a high tolerance for false alarms; \n",
    "                                                                false alarms due to water clouds \n",
    "                                                                are common in this category.</td></tr>\n",
    "    <tr>                                                            \n",
    "    <td>14</td>    <td>Medium probability fire pixel  (codes 14 and 34):<br>   A medium confidence firewith a lower thermal \n",
    "                                                                signature than a High probability fire pixel would \n",
    "                                                                have for this pixel; intended for users with a high \n",
    "                                                                tolerance  for  false  alarms;  false  alarms  due  \n",
    "                                                                to  water  clouds are  common  in  this category.</td></tr>\n",
    "    <tr>\n",
    "    <td>15</td>    <td>Low probability fire pixel (codes 15 and 35):<br>       Lowest confidence fire class, a large number of \n",
    "                                                                false alarms are to be expected, it is included \n",
    "                                                                as it also contains small and/or cooler fires; \n",
    "                                                                intended for users  with  a  high  tolerance  for  \n",
    "                                                                false  alarms;  false  alarms  due  to  water  \n",
    "                                                                clouds are common in this category.\n",
    "                                                                \n",
    "   </td></tr>\n",
    "   <tr><td>20</td>    <td>Reserved</tr></td>\n",
    "    <tr><td>21</td>    <td>Reserved</tr></td>\n",
    "    <tr><td>22</td>    <td>Reserved</tr></td>\n",
    "    <tr><td>23</td>    <td>Reserved</tr></td>\n",
    "    <tr><td>24</td>   <td>Reserved</tr></td>\n",
    "    <tr><td>25</td>    <td>Reserved</tr></td>\n",
    "    <tr><td><b>30</td>    <td><font color='red'><b>Temporally Filtered Processed fire pixel</tr></font></td>\n",
    "    <tr><td><b>31</td>    <td><font color='red'><b>Temporally Filtered Saturated fire pixel</tr></font></td>\n",
    "    <tr><td>32</td>    <td>Temporally Filtered Cloud contaminated fire pixel</tr></td>\n",
    "    <tr><td>33</td>    <td>Temporally Filtered High probability fire pixel</tr></td>\n",
    "    <tr> <td>34</td>    <td>Temporally Filtered Medium probability fire pixel</tr></td>\n",
    "    <tr><td>35</td>    <td>Temporally Filtered Low probability fire pixel</tr></td>\n",
    "    <tr><td>40</td>    <td>Space pixel</tr>\n",
    "    <tr><td>50</td>    <td>Localzenith angle block-out zone, greater than threshold of 80°</tr></td>\n",
    "    <tr><td>60</td>    <td>Reflectance(glint)angle  or  solar  zenith  angle  block-out  zone, within  respective thresholds, 10° and 10° respectively</tr></td>\n",
    "    <tr><td>100</td>   <td>Processed region of image</tr></td>\n",
    "    <tr><td>120</td>   <td>Bad input data: missing data, 3.9 μm (Channel7)</tr></td>\n",
    "    <tr><td>121</td>   <td>Bad input data: missing  data, 11.2 μm ( Channel14)</tr></td>\n",
    "    <tr><td>123</td>   <td>Bad input data: saturation, 3.9 μm ( Channel7)</tr></td>\n",
    "    <tr><td>124</td>   <td>Bad input data: saturation, 11.2 μm ( Channel14)</tr></td>\n",
    "    <tr><td>125</td>   <td>Invalid  reflectivity  product  input(value  <0). Can  be  indicative  of  localized  spikes in the reflectivity product/bad data</tr></td>\n",
    "    <tr><td>126</td>   <td>Unusable input data: 3.9 μm ( Channel7)less than minimum threshold (200 K)</tr></td>\n",
    "    <tr><td>127</td>   <td>Unusable input data: 11.2μm ( Channel14)less than minimum threshold (200 K)</tr></td>\n",
    "    <tr><td>130</td>   <td>Reserved</tr></td>\n",
    "    <tr><td>150</td>   <td>Invalid ecosystem type</tr></td>\n",
    "    <tr><td>151</td>   <td>Sea water</tr></td>\n",
    "    <tr><td>152</td>   <td>Coastline Fringe</tr></td>\n",
    "    <tr><td>153</td>   <td>Inland Water and other Land/water mix</tr>\n",
    "    <tr><td>155</td>   <td>Reserved</tr>\n",
    "    <tr><td>160</td>   <td>Invalid emissivity value</tr>\n",
    "    <tr><td>170 </td>  <td>No background value could be computed</tr></td>\n",
    "    <tr><td>180</td>   <td>Errorin converting between temperature and radiance</tr></td>\n",
    "    <tr><td>182</td>   <td>Error in converting adjusted temperatures to radiance</tr></td>\n",
    "    <tr><td>185</td>   <td>Values used for bisection technique to hone in on solutions for Dozier technique are invalid.</tr></td>\n",
    "    <tr><td>186</td>   <td>Invalid radiances computed for Newton’s method for solving Dozier equations</tr></td>\n",
    "    <tr><td>187</td>  <td> Errors in Newton’s method processing</tr></td>\n",
    "    <tr><td>188</td>   <td>Error in computing pixel area for Dozier technique</tr></td>\n",
    "    <tr><td>200</td>   <td>11.2 μm threshold cloud test</tr></td>\n",
    "    <tr><td>205</td>   <td>3.9  μm (Channel7) minus  11.2  μm (Channel14) negative  difference  threshold cloud test</tr></td>\n",
    "    <tr><td>210</td>   <td>3.9 μm (Channel7) minus 11.2 μm (Channel14) positive difference threshold cloud test</tr></td>\n",
    "    <tr><td>215</td>   <td>Albedo threshold cloud test (daytime only)</tr></td>\n",
    "    <tr><td>220</td>   <td>12.3μm (Channel15) threshold cloud test (only used when data available)</tr></td>\n",
    "    <tr><td>225</td>   <td>11.2  μm (Channel14) minus 12.3μm (Channel15) negative  difference  threshold cloud test</tr></td>\n",
    "    <tr><td>230</td>   <td>11.2  μm (Channel14) minus  12.3μm (Channel15) positive  difference  threshold cloud test</tr></td>\n",
    "    <tr><td>240</td>   <td>Along  scan  reflectivity  product  test  to  identify  and  screen  for\n",
    "     cloud  edge  used  in conjunction with 3.9 μm(Channel7)threshold</tr></td>\n",
    "    <tr><td>245</td>   <td>Along  scan  reflectivity  product  test  to  identify  and  screen  for\n",
    "    cloud  edge  used  in conjunction with albedo threshold</tr></td>\n",
    "    </table>\n"
   ],
   "metadata": {
    "collapsed": false,
    "pycharm": {
     "name": "#%% md\n"
    }
   }
  },
  {
   "cell_type": "markdown",
   "source": [
    "The projection x and y coordinates equals the scanning angle (in radians) multiplied by the satellite height\n",
    "See details [here](https://proj4.org/operations/projections/geos.html?highlight=geostationary)."
   ],
   "metadata": {
    "collapsed": false,
    "pycharm": {
     "name": "#%% md\n"
    }
   }
  },
  {
   "cell_type": "code",
   "execution_count": null,
   "outputs": [],
   "source": [
    "sat_h = C['goes_imager_projection'].perspective_point_height\n",
    "\n",
    "# Satellite longitude\n",
    "sat_lon = C['goes_imager_projection'].longitude_of_projection_origin\n",
    "\n",
    "# Satellite sweep\n",
    "sat_sweep = C['goes_imager_projection'].sweep_angle_axis\n",
    "\n",
    " # map object with pyproj\n",
    "p = Proj(proj='geos', h=sat_h, lon_0=sat_lon, sweep=sat_sweep)\n",
    "\n",
    "# The projection x and y coordinates equals the scanning angle (in radians) multiplied by the satellite height\n",
    "# See details here: https://proj4.org/operations/projections/geos.html?highlight=geostationary\n",
    "X = C['x'][:] * sat_h\n",
    "Y = C['y'][:] * sat_h\n"
   ],
   "metadata": {
    "collapsed": false,
    "pycharm": {
     "name": "#%% # Satellite height\n"
    }
   }
  },
  {
   "cell_type": "markdown",
   "source": [
    "# XC and YC are the mid points of each grid box. Translating the function below:\n",
    "   <code>(X[1:] - X[-1])</code> is the difference between two adjoining grid boxes. Dividing by 2 gives us 1/2 of the\n",
    "         distance between each grid box. Since this is a non-linear projection, this is the best we can do.\n",
    "         Recall [1:] is everything except the first element and [:-1] is everything but the last element.\n",
    "         Key Point: The + X[:-1] will now add the distance of 1/2 grid box to each grid box (except the last one,\n",
    "          which is now dropped from the grid). We have essentially lopped off the last row in the GOES scan,\n",
    "         so we'll also need to remove the last row of the FM data as well.\n",
    "         "
   ],
   "metadata": {
    "collapsed": false,
    "pycharm": {
     "name": "#%% md\n"
    }
   }
  },
  {
   "cell_type": "code",
   "execution_count": null,
   "outputs": [],
   "source": [
    "XC = (X[1:] - X[:-1]) / 2 + X[:-1]\n",
    "YC = (Y[1:] - Y[:-1]) / 2 + Y[:-1]\n",
    "FM = FM[:-1, :-1]\n",
    "\n",
    "xres = np.max((X[1:] - X[:-1]) / 2)\n",
    "yres = np.max((Y[1:] - Y[:-1]) / 2) * -1\n",
    "\n",
    "# Convert map points to latitude and longitude with the magic provided by Pyproj\n",
    "XXC, YYC = np.meshgrid(XC, YC)\n",
    "lons, lats = p(XXC, YYC, inverse=True)\n",
    "\n",
    "# Consider a point valid if the mask code is:\n",
    "# 10: Processed Fire Pixel\n",
    "# 30: Temporally Filtered Processed fire pixel (passed temporal test where previous scan was also a fire pixel)\n",
    "# 11: Saturated Fire Pixel\n",
    "# 31: Temporally Filtered Saturated fire pixel\n",
    "#\n",
    "# The above mask codes are the only four codes with a relatively LOW false alarm ratio.\n",
    "# Note: a fire pixel is only labeled with one code, so if a fire pixel is\n",
    "# processed (code 10) in the first scan, the next scan will likely mask the pixel as\n",
    "# a \"Temporally Filtered Processed pixel (code 30).\n",
    "\n",
    "# Grab points with a mask = 10 or 11\n",
    "fire_pts = zip(lons[(FM == 10) | (FM == 11) | (FM == 30) | (FM == 31)],\n",
    "               lats[(FM == 10) | (FM == 11) | (FM == 30) | (FM == 31)])\n",
    "    "
   ],
   "metadata": {
    "collapsed": false,
    "pycharm": {
     "name": "#%% \n"
    }
   }
  },
  {
   "cell_type": "markdown",
   "source": [
    "We now have the point of every valid fire pixel in the GOES-R domain. We will now apply a mask to only include points \n",
    "that are in the CA domain. <br>\n",
    "\n",
    "We can get shapefiles from \n",
    "[CA.gov Shapefiles](https://data.ca.gov/dataset/ca-geographic-boundaries)\n",
    "\n",
    "Although there are various ways to read in shapefiles via python, we are choosing to use osgeo. \n"
   ],
   "metadata": {
    "collapsed": false,
    "pycharm": {
     "name": "#%% md\n"
    }
   }
  },
  {
   "cell_type": "code",
   "execution_count": null,
   "outputs": [],
   "source": [
    "ca_shapefile = osgeo.gdal.OpenEx(os.path.join('CA_Shapefile', 'CA_State_TIGER2016.shp'))\n",
    "# Get the points and put into Shapely multipolygon shape.\n",
    "ca_shape = ca_shapefile.GetLayer(0).GetFeature(0).ExportToJson()\n",
    "ca_polyXY = shapely.geometry.shape(json.loads(ca_shape)['geometry'])\n",
    "\n",
    "# Need to reproject from xy to latlng.\n",
    "reproj = partial(transform,\n",
    "    Proj(init='epsg:3857'),     # source coordinate system (x/y)\n",
    "    Proj(init='epsg:4326'))     # dest coordinate system (lon/lat)\n",
    "\n",
    "# Transform into lat lon\n",
    "ca_polyLL = shapely.ops.transform(reproj, ca_polyXY)\n",
    "\n",
    " # Don't use list comprehension with append since it will mutate the list.\n",
    "fire_pts_list = list(fire_pts)\n",
    "ca_fire_pts = []\n",
    "for pt in fire_pts_list:\n",
    "    if Point(pt).within(ca_polyLL):\n",
    "        ca_fire_pts.append(pt)\n",
    "        print(f\"New Point Found: {pt}\")\n",
    "            \n",
    "    \n",
    "            "
   ],
   "metadata": {
    "collapsed": false,
    "pycharm": {
     "name": "#%%\n"
    }
   }
  },
  {
   "cell_type": "code",
   "execution_count": null,
   "outputs": [],
   "source": [
    "# FOR PLOTTING PURPOSES\n",
    "FM[FM >= 31] = np.nan\n",
    "#FM[FM == 40] = np.nan\n",
    "#FM[FM == 50] = np.nan\n",
    "#FM[FM == 60] = np.nan\n",
    "FM[FM == -99] = np.nan\n",
    "#FM[FM == 40] = np.nan\n",
    "#FM[FM == 50] = np.nan\n",
    "#FM[FM == 60] = np.nan\n",
    "#FM[FM == 150] = np.nan\n",
    "#FM[FM != 13] = np.nan\n",
    "#FM[FM == max(FM[0])] = np.nan\n",
    "#FM[FM == min(FM[0])] = np.nan\n",
    "#\n",
    "l = {'latitude': 37.75,\n",
    "      'longitude': -120.5}\n",
    "#\n",
    "m = Basemap(resolution='i', projection='cyl', area_thresh=50000, llcrnrlon=l['longitude'] - 5,\n",
    "             llcrnrlat=l['latitude'] - 5,\n",
    "             urcrnrlon=l['longitude'] + 5, urcrnrlat=l['latitude'] + 5, )\n",
    "\n",
    "m.drawcoastlines()\n",
    "m.drawcountries()\n",
    "m.drawstates()\n",
    "m.drawcounties()\n",
    "\n",
    "plt.figure(1, figsize=[150, 120])\n",
    "\n",
    "# In order to plot, you must do pcolormesh, not imshow. If you do imshow, the image will be stretched (no idea why).\n",
    "m.pcolormesh(lons,lats,FM, latlon=True)\n",
    "\n",
    "if ca_fire_pts:\n",
    "    x2, y2 = m([i[0] for i in ca_fire_pts], [i[1] for i in ca_fire_pts])\n",
    "# PLACE CIRCLE AROUND A VALID PIXEL \n",
    "for x2, y2 in zip(x2,y2):\n",
    "    fire_circle = Circle(xy=m(x2, y2), radius=0.2, fill=False, color='r', linewidth=2)\n",
    "    plt.gca().add_patch(fire_circle)\n",
    "print(f\"Total Points: {len(ca_fire_pts)}\")\n",
    "plt.show()\n",
    "\n",
    "l = {'latitude': 41.826,\n",
    "      'longitude': -121.244}\n",
    "\n",
    "m2 = Basemap(resolution='i', projection='cyl', area_thresh=50000, llcrnrlon=l['longitude'] - 0.75,\n",
    "             llcrnrlat=l['latitude'] - 0.75,\n",
    "             urcrnrlon=l['longitude'] + 0.75, urcrnrlat=l['latitude'] + 0.75, )\n",
    "if ca_fire_pts:\n",
    "    x2, y2 = m2([i[0] for i in ca_fire_pts], [i[1] for i in ca_fire_pts])\n",
    "# PLACE CIRCLE AROUND A VALID PIXEL \n",
    "for x2, y2 in zip(x2,y2):\n",
    "    fire_circle = Circle(xy=m(x2, y2), radius=0.2, fill=False, color='r', linewidth=2)\n",
    "    plt.gca().add_patch(fire_circle)\n",
    "\n",
    "# In order to plot, you must do pcolormesh, not imshow. If you do imshow, the image will be stretched (no idea why).\n",
    "m2.pcolormesh(lons,lats,FM, latlon=True)\n",
    "m2.drawcounties()\n",
    "m2.drawstates()\n",
    "plt.show()\n"
   ],
   "metadata": {
    "collapsed": false,
    "pycharm": {
     "name": "#%%\n"
    }
   }
  },
  {
   "cell_type": "markdown",
   "source": [
    "As shown in this example, there may be several lat/lng points that are all a part of a single fire complex. This\n",
    "presents a challenge when alerting users. Recall the program sends an alert when: \n",
    "<ol>\n",
    "    <li>A new fire is detected within a specified distance to user's location.</li>\n",
    "    <li>A fire already alerted to the user is spreading / growing rapidly toward the user's location. </li>\n",
    "</ol>\n",
    "\n",
    "Therefore, consider the simplified case below with 2 fire groups that are within the alert distance to the user.<br>\n",
    "<b>Fire group 1 NO ALERT:</b> The user has already been alerted to this fire (not new), and the fire is not spreading.\n",
    "<br>\n",
    "<b>Fire group 2 ALERT:</b> This is a new fire and the user needs to be alerted. \n",
    "\n",
    "<b> Note: The grid spacing on the GOES-R is ~1km, this image is not to scale and is an oversimplification. \n",
    "\n",
    "![](/files/fire_pixels_ex.png)\n",
    "<img src=\"/files/fire_pixels_ex1.png\" width=\"800\" />\n",
    "\n",
    "<br>\n",
    "Now consider a (probably rare) case where a new hotspot is detected between the two fire complexes. \n",
    "\n",
    "![](/files/fire_pixels_ex2.png)\n",
    "<img src=\"/files/fire_pixels_ex2.png\" width=\"800\" />\n",
    "\n",
    "In this case, the new point is actually close enough to both fires such that the grouping algorithm will\n",
    "combine the fires, assigning the fire ID number to 1 (the minimum of all the fire IDs in the complex). The user\n",
    "would be alerted due to the fact that the size of the fire increased significantly in size \n",
    "(this could / should be changed?).\n",
    "\n",
    "![](/files/fire_pixels_ex3.png)\n",
    "<img src=\"../files/fire_pixels_ex3.png\" />\n",
    "\n",
    "\n",
    "The following code shows how the grouping algorithm accomplishes this:\n"
   ],
   "metadata": {
    "collapsed": false,
    "pycharm": {
     "name": "#%% md\n"
    }
   }
  },
  {
   "cell_type": "code",
   "execution_count": null,
   "outputs": [],
   "source": [
    "# Turn the current fire hotspot locations into a dict. \n",
    "fire_pts = [{\"lat\": ll[1], \"lng\":ll[0], \"fire_id\": nan, \"scan_dt\": fdfc_DATE, \"s3_filename\":FILE} for ll in ca_fire_pts]\n",
    "\n",
    "# If any hotspot is a new fire, we'll have to assign it a new ID. The ID just needs to be unique, so we'll \n",
    "# accomplish this by extracting the max ID that is currently in our database. \n",
    "CURSOR.execute(\"SELECT max(fire_id) FROM goes_r_fire WHERE fire_id IS NOT NULL\")\n",
    "idNum = CURSOR.fetchone()[0]\n",
    "if not idNum: \n",
    "    max_group_id = 0\n",
    "else: \n",
    "    max_group_id = maximum(idNum, 0) + 1\n",
    "fire_group_num = max_group_id\n",
    "print(max_group_id)"
   ],
   "metadata": {
    "collapsed": false,
    "pycharm": {
     "name": "#%%\n"
    }
   }
  },
  {
   "cell_type": "markdown",
   "source": [
    "We need to examine the entire database of active fire points to check if any new fire points are \n",
    "a part of an existing complex, or if they are an entirely new complex.   \n"
   ],
   "metadata": {
    "collapsed": false,
    "pycharm": {
     "name": "#%% md\n"
    }
   }
  },
  {
   "cell_type": "code",
   "execution_count": null,
   "outputs": [],
   "source": [
    "# Get every lat/lng point that exists in the database\n",
    "sql = \"SELECT lng, lat, fire_id, scan_dt, s3_filename, cal_fire_incident_id FROM goes_r_fire\"\n",
    "CURSOR.execute(sql)\n",
    "db_resp = CURSOR.fetchall()\n",
    "\n",
    "# Get only the last two elements (i.e. drop the id and kep latlng)\n",
    "# \"set\" is a fantastic function that will turn this into an unordered/unindexed dict of tuples.\n",
    "# So if you do something like: thisset = {\"apple\", \"banana\", \"cherry\"}, then print(\"banana\" in set) -> True\n",
    "db_latlngs = set([resp[:2] for resp in db_resp])\n",
    "\n",
    "# We need to create a dict in order to compare what's in the database to our current GOES-R fire pts\n",
    "db_fire_pts = [{\"lat\": dbll[1],\n",
    "                \"lng\": dbll[0],\n",
    "                \"fire_id\": dbll[2],\n",
    "                \"scan_dt\": dbll[3],\n",
    "                \"s3_filename\": dbll[4],\n",
    "                \"cal_fire_incident_id\": dbll[5],\n",
    "                } for dbll in db_resp]\n",
    "\n",
    "# Only accept points that don't exist in the database yet.\n",
    "new_fire_pts = [pt for pt in fire_pts if (pt[\"lng\"], pt[\"lat\"]) not in db_latlngs]\n",
    "\n",
    "# Extend any new points to the end of the array containing the all the current points.\n",
    "db_fire_pts.extend(new_fire_pts)\n",
    "print(f\"NEW FIRE POINTS TO CHECK: {new_fire_pts}\")\n"
   ],
   "metadata": {
    "collapsed": false,
    "pycharm": {
     "name": "#%%\n"
    }
   }
  },
  {
   "cell_type": "code",
   "execution_count": null,
   "outputs": [],
   "source": [
    "\n",
    "# The following loops: Check each valid fire pixel and determine if it has an ID associated with it. If not,\n",
    "#                      assign it a new ID based on its proximity to any other valid fire pixels.\n",
    "#\n",
    "# Assigning a new ID to a fire pixel is done by:\n",
    "# 1) If this new point doesn't have an id, we will loop through all the fire pixels to see if it's\n",
    "#    a) part of an existing fire (i.e. close enough to another pixel that has an ID already)\n",
    "#    b) a new fire (i.e. a pixel that is to far away to any other active fire, so a new ID will be given).\n",
    "# 2) If this pixel already has an ID, the loop will see if there are any additional points that may\n",
    "#   have been missed (e.g. this new point could be on the opposite edge of the fire, which may put it close\n",
    "#   enough to other grid boxes that the first point missed).\n",
    "\n",
    "for row in db_fire_pts:\n",
    "    row_point = Point(row[\"lng\"], row[\"lat\"])\n",
    "    for pt in db_fire_pts:\n",
    "        pt_coords = Point(pt[\"lng\"], pt[\"lat\"])\n",
    "        \n",
    "        # To find the distnace in meters, we need to solicit pyproj\n",
    "        geod = Geod(ellps='WGS84')\n",
    "\n",
    "        angle1, angle2, dist = geod.inv(row_point.x, row_point.y, pt_coords.x, pt_coords.y)\n",
    "        if dist < xres * 10:\n",
    "            # These two points are close enough to be considered the same fire. So we are checking two things:\n",
    "            # 1) This point in the database already has an ID\n",
    "            #    a) Always use the lowest, non-null, group number. This ensures that if a point that develops\n",
    "            #       between two fires, this new point would link the two fires together. This only works\n",
    "            #       because we're looping from ID #1 to ID #n; therefore, if this is a point that links two\n",
    "            #       fires it would first link fire_id = x, then link fire_id = x+n, but both fires would be\n",
    "            #       assigned fire_id = x\n",
    "\n",
    "            row[\"fire_id\"] = np.nanmin([pt[\"fire_id\"], row[\"fire_id\"]])\n",
    "            \n",
    "            # If row[\"fire_id\"] is still nan, then both of these points are none and we need to assign an ID\n",
    "            if np.isnan(row[\"fire_id\"]):\n",
    "                row[\"fire_id\"] = fire_group_num\n",
    "                pt[\"fire_id\"] = fire_group_num\n",
    "                fire_group_num += 1\n",
    "\n",
    "        # The points were too far apart to be considered a fire, but double check to make sure the point in the\n",
    "        # database actually has an id (could probably leave this code out, but its a failsafe).\n",
    "        if np.isnan(pt[\"fire_id\"]):\n",
    "                pt[\"fire_id\"] = fire_group_num\n",
    "                fire_group_num += 1\n",
    "\n",
    "    # Finally, if the row we're checking still does not have an ID at this time, then it means it is not close\n",
    "    # enough to any other point and it needs to be assigned an new ID.\n",
    "    if np.isnan(row[\"fire_id\"]):\n",
    "        row[\"fire_id\"] = fire_group_num\n",
    "        fire_group_num += 1\n",
    "\n",
    "# Now that we have grouped our fire points into fires, we want to see if CAL Fire has already\n",
    "# declared any of these as active fires. The idea here is to download their fire data via csv (no api as of yet),\n",
    "# and test whether any of the points detected on the GOES-R are associated with a fire already identified by CAL\n",
    "# fire. If so, our fire points will now be given that fire ID, which will act the foreign key to each sql table.\n",
    "# So, first we have to check if any of our fires are within a certain range of all the fires listed. If not,\n",
    "# then CAL fire has not identified the fire and we will assign our own id to the points.\n",
    "\n",
    "df = pd.DataFrame(db_fire_pts)\n",
    "df[\"cal_fire_incident_id\"] = np.nan\n",
    "df_calfire = pd.DataFrame()\n",
    "try:\n",
    "    df_calfire = pd.read_csv(\"https://www.fire.ca.gov/imapdata/mapdataactive.csv\")\n",
    "    df_calfire.to_sql(\"cal_fire\", CONN, if_exists='replace', index=False)\n",
    "    df_calfire.drop(df_calfire[df_calfire.is_active == 'N'].index, inplace=True)\n",
    "except:\n",
    "    print(\"Could Not download CALFIRE csv\")\n",
    "\n",
    "if not df_calfire.empty and not df.empty:\n",
    "    # Store Cal Fire's incident lat lng points as a list of shapely POINT objects\n",
    "    cf_pts = [Point(lng, lat) for lng, lat in zip (df_calfire[\"incident_longitude\"], df_calfire[\"incident_latitude\"])]\n",
    "\n",
    "    # Shapely has a function that will calculate closest point to a list of points. For every valid fire point in\n",
    "    # our grid, we will store the nearest point. This returns a list of tuples where\n",
    "    # tuple[0] = reference point (in lng lat) and tuple[1] = nearest point to our ref point.\n",
    "    nearest = [shapely.ops.nearest_points(Point(lng,lat), MultiPoint(cf_pts))\n",
    "               for lng, lat in zip(df['lng'],df['lat'])]\n",
    "\n",
    "    for pt in nearest:\n",
    "        # Return the row (index number) of the dataframe for the point we're examining.\n",
    "        df_row = df.loc[df[\"lat\"] == pt[0].y].index[0]\n",
    "\n",
    "        # x != x will be true if x is nan. So if we don't have a Cal Fire ID for this row, check to see if\n",
    "        # there is a Cal Fire close to our point.\n",
    "        if df.iloc[df_row][\"cal_fire_incident_id\"] != df.iloc[df_row][\"cal_fire_incident_id\"]:\n",
    "            raster_pt = pt[0]\n",
    "            closest_cal_fire = pt[1]\n",
    "            #distance = raster_pt.distance(closest_cal_fire)\n",
    "\n",
    "            # To find the distnace in meters, we need to solicit pyproj\n",
    "            geod = Geod(ellps='WGS84')\n",
    "            angle1, angle2, distance = geod.inv(raster_pt.x, raster_pt.y, closest_cal_fire.x, closest_cal_fire.y)\n",
    "            if distance < xres*20:\n",
    "                # Get the row (index number) of the dataframe for the point we're examining.\n",
    "                df_row = df.loc[df[\"lat\"] == pt[0].y].index[0]\n",
    "\n",
    "                # Get the row of calfire dataframe.\n",
    "                df_calfire_row = df_calfire.loc[df_calfire[\"incident_latitude\"] == pt[1].y].index[0]\n",
    "\n",
    "\n",
    "                this_fireID = df.iloc[df_row]['fire_id']\n",
    "\n",
    "                # Change the cal_fire_incident_id number in the df to the same as in the df_calfire\n",
    "                df.loc[df.fire_id == this_fireID, \"cal_fire_incident_id\"] = df_calfire.loc[df_calfire_row][\"incident_id\"]\n",
    "df.to_sql('goes_r_fire', CONN, index=False, if_exists='replace')\n",
    "print(df[['lat','lng','fire_id']])\n"
   ],
   "metadata": {
    "collapsed": false,
    "pycharm": {
     "name": "#%%\n"
    }
   }
  },
  {
   "cell_type": "markdown",
   "source": [
    "<b> If the dataframe has any <code>fire_id's</code> without an assigned value, then we have a problem. \n",
    "\n",
    "If not, it's time to check whether or not the user needs to be updated. \n"
   ],
   "metadata": {
    "collapsed": false,
    "pycharm": {
     "name": "#%% md\n"
    }
   }
  },
  {
   "cell_type": "code",
   "execution_count": null,
   "outputs": [],
   "source": [
    "loop_duration = 1\n",
    "past_hour = datetime.utcnow() - timedelta(hours=loop_duration)\n",
    "\n",
    "# List of all GOES detected hotspots in the last hour.\n",
    "sql = \"SELECT lng, lat, fire_id FROM goes_r_fire WHERE scan_dt >= ?\"\n",
    "CURSOR.execute(sql, [past_hour])\n",
    "respGoesF = list(CURSOR.fetchall())\n",
    "\n",
    "# List of all the active CAL FIRE incidents.\n",
    "sql = \"SELECT incident_longitude, incident_latitude, incident_id FROM cal_fire WHERE is_active == 'Y'\"\n",
    "CURSOR.execute(sql)\n",
    "\n",
    "# LatLng list of every active CalFire incident.\n",
    "calfirell = list(CURSOR.fetchall())\n",
    "\n",
    "# Get the coordinates of the user you're interested in alerting.\n",
    "sql = \"SELECT user_lng, user_lat, user_id FROM users WHERE user_id == ?\"\n",
    "CURSOR.execute(sql, ['1'])\n",
    "respUsers = list(CURSOR.fetchall())\n",
    "\n",
    "# Latlng of user turned into Point cords\n",
    "userll = Point(respUsers[0][:-1])\n",
    "\n",
    "print(userll)\n"
   ],
   "metadata": {
    "collapsed": false,
    "pycharm": {
     "name": "#%%\n"
    }
   }
  },
  {
   "cell_type": "markdown",
   "source": [
    "At this point in the program, we now have all the data in the database for \n",
    "fires detected by the GOES-R and fired detected by CalFire. \n",
    "\n",
    "The process at this point now becomes fairly straightforward. \n",
    "<ul>\n",
    "<li>Look for any hotspots in the GOES-R and CalFire Database tables that have been recorded in the last hour</li>\n",
    "<li>If any new points have been recorded <b>and</b> the points are close enough to the user <b>and</b> the\n",
    "user hasn't been alerted to this ID yet, then:\n",
    "<ul>\n",
    "    <li><b>alert the user.</b> </li>\n",
    "    <li><b>update the database to reflect the fact that the user has now been alerted to this fire_id</b></li>\n",
    "</ul>\n",
    "</li>\n",
    "</ul>\n",
    "\n",
    "The GOES-R fire hotspot detection database would now look something like this with ID's assigned\n",
    "to the various hotspot pixels:\n",
    "\n",
    "![GOES DB Example](/files/goes_r_fire_db.png)\n",
    "<img src=\"/files/goes_r_fire_db.png\" width=\"800\" />\n"
   ],
   "metadata": {
    "collapsed": false,
    "pycharm": {
     "name": "#%% md\n"
    }
   }
  },
  {
   "cell_type": "code",
   "execution_count": null,
   "outputs": [],
   "source": [
    "\n",
    "# User ID number\n",
    "userID = respUsers[0][2]\n",
    "\n",
    "# Test if GOES detected any hotspots within range of user\n",
    "for pt in respGoesF:\n",
    "    ll = Point(pt[:-1])  # Lat lng of point\n",
    "    fire_id = pt[2]  # ID given to fire\n",
    "\n",
    "    geod = Geod(ellps='WGS84')\n",
    "    angle1, angle2, dist = geod.inv(ll.x, ll.y, userll.x, userll.y)  # Distance of user to fire\n",
    "\n",
    "    sql = \"SELECT need_to_alert FROM user_alert_log WHERE user_id = ? AND alerted_incident_id = ?\"  # Check user has been alerted to this ID\n",
    "    CURSOR.execute(sql, [userID, fire_id])\n",
    "    already_alerted = CURSOR.fetchone()  # This will be None if not alerted yet.\n",
    "\n",
    "    # If dist is < 1000 km add this point to the user_alert_log and set need_to_alert value to True\n",
    "    if dist < (1000 * 1000) and not already_alerted:\n",
    "        sql = '''INSERT INTO user_alert_log \n",
    "                    (user_id, alerted_incident_id, alert_time, need_to_alert, dist_to_fire, fire_lng, fire_lat) \n",
    "                    VALUES (?, ?, ?, ?, ?, ?, ?)'''\n",
    "        CURSOR.execute(sql, [userID, fire_id,\n",
    "                             datetime.now().strftime('%Y-%m-%d %H:%M:%S'), True, int(dist*0.00062),\n",
    "                             pt[0], pt[1]])\n",
    "        CONN.commit()\n",
    "        print(f\"Need to alert user on GOES detected fire located at lat/lng {pt[1]}/{pt[0]}\")\n"
   ],
   "metadata": {
    "collapsed": false,
    "pycharm": {
     "name": "#%%\n"
    }
   }
  },
  {
   "cell_type": "code",
   "execution_count": null,
   "outputs": [],
   "source": [
    "# Test if GOES detected any hotspots within range of user\n",
    "for pt in calfirell:\n",
    "    ll = Point(pt[:-1])  # Latlng of Cal Fire point\n",
    "    cfID = pt[2]  # The incident ID of the fire (given by CalFire)\n",
    "\n",
    "    # Check user has been alerted to this ID# The incident ID of the fire (given by CalFire)\n",
    "    sql = \"SELECT need_to_alert FROM user_alert_log \" \\\n",
    "          \"WHERE user_id = ? AND alerted_cal_fire_incident_id = ?\"\n",
    "    CURSOR.execute(sql, [userID, cfID])\n",
    "    already_alerted = CURSOR.fetchone()  # This will be None if not alerted to this ID yet\n",
    "\n",
    "    # Distance\n",
    "    geod = Geod(ellps='WGS84')\n",
    "    angle1, angle2, dist = geod.inv(ll.x, ll.y, userll.x, userll.y)\n",
    "    if dist < 100000000 and not already_alerted:\n",
    "        sql = '''INSERT INTO user_alert_log \n",
    "                    (user_id, alerted_cal_fire_incident_id, alert_time, \n",
    "                    need_to_alert, dist_to_fire, fire_lng, fire_lat) \n",
    "                    VALUES (?, ?, ?, ?, ?, ?, ?)'''\n",
    "        CURSOR.execute(sql, [int(userID), cfID,\n",
    "                             datetime.now().strftime('%Y-%m-%d %H:%M:%S'),\n",
    "                             True, int(dist*0.00062), pt[0], pt[1]])\n",
    "        CONN.commit()\n",
    "        print(f\"Need to alert user on CAL FIRE located at lat/lng {pt[1]}/{pt[0]}\")\n",
    "\n",
    "# Check if any values for this user need to be alerted\n",
    "sql_alert_count = \"SELECT COUNT(*) FROM user_alert_log WHERE user_id=? AND need_to_alert=1\"\n",
    "CURSOR.execute(sql_alert_count, [userID])\n",
    "alert_num = list(CURSOR.fetchone())[0]\n",
    "print(f\"There are a total of {alert_num} fires the user must be alerted to.\")\n"
   ],
   "metadata": {
    "collapsed": false,
    "pycharm": {
     "name": "#%%\n"
    }
   }
  },
  {
   "cell_type": "markdown",
   "source": [
    "\n",
    "The user alert database would now look something like this, where there is one fire that is located\n",
    "14 miles away from the user and the user has not been alerted yet (need_to_alert=1):\n",
    "\n",
    "![User Alert DB Example](/files/db_user_alert_ex.png)\n",
    "<img src=\"/files/db_user_alert_ex.png\" width=\"800\" />\n"
   ],
   "metadata": {
    "collapsed": false,
    "pycharm": {
     "name": "#%% md\n"
    }
   }
  },
  {
   "cell_type": "code",
   "execution_count": null,
   "outputs": [],
   "source": [
    "if alert_num > 0:\n",
    "    print(\"New Fire Detected, Setting up alert...\")\n",
    "    \n",
    "    # A list of files already downloaded into the database and processed into .png images.\n",
    "    CURSOR.execute(\"SELECT s3_filename FROM goes_r_images\")\n",
    "    already_downloaded = [item[0] for item in list(CURSOR.fetchall())]\n",
    "\n",
    "    # To create an mp4 loop that is \"hours_of_data\" in length, we first need to get all the file names\n",
    "    # of the multiband files.\n",
    "    mp4_files = AwsGOES(\n",
    "            bands=[7,8],\n",
    "            bucket=bucket,\n",
    "            st_dt=fdfc_DATE.strftime(\"%m/%d/%Y %H:%M\"),\n",
    "            hrs=hours_of_data).bucket_files\n",
    "\n",
    "    sql = '''SELECT fire_lng, fire_lat FROM user_alert_log WHERE user_id = 1 AND need_to_alert = 1'''\n",
    "    CURSOR.execute(sql)\n",
    "    map_lnglat = [item for item in list(CURSOR.fetchall())]\n",
    "\n",
    "    # If the file isn't in our database yet, go download it.\n",
    "    for mp4_file in (mp4_file for mp4_file in mp4_files if mp4_file not in already_downloaded):\n",
    "        # Download multiband netcdf file\n",
    "        C = goes_multiband.download_file(mp4_file, goes_multiband.bucket, s3)     # NETCDF File containing multiband GOES data\n",
    "\n",
    "        # Seconds since 2000-01-01 12:00:00\n",
    "        add_seconds = int(np.ma.round(C.variables['t'][0], decimals=0))\n",
    "        DATE = datetime(2000, 1, 1, 12) + timedelta(seconds=add_seconds)\n",
    "\n",
    "        # Timestamp difference between the GOES multiban scan and the GOES Fire detection scan. This should be < 6 min.\n",
    "        scan_diff = abs(fdfc_DATE - DATE).seconds / 60\n",
    "\n",
    "        print(f\"DATE OF FDFC FILE: {fdfc_DATE}\\n\"\n",
    "              f\"DATE OF MULTIBAND FILE: {DATE}\\n\"\n",
    "              f\"MINUTES BETWEEN FILES:{scan_diff}\")\n",
    "\n",
    "        if scan_diff > 1:\n",
    "            logging.info(\"Duration between GOES mutiband and GOES Hotspot detection scan is \" +\n",
    "                                   str(scan_diff) + \" minutes.\")\n",
    "\n",
    "        # Create a true color image and store the png file in the database.\n",
    "        composite_img = Fire_Image(C=C, fileName=FILE).Composite\n",
    "\n",
    "        # Scan's start time, converted to datetime object\n",
    "        scan_start = datetime.strptime(C.time_coverage_start, '%Y-%m-%dT%H:%M:%S.%fZ')\n",
    "        \n",
    "        scan_mid = int(np.ma.round(C.variables['t'][0], decimals=0))\n",
    "        DATE = datetime(2000, 1, 1, 12) + timedelta(seconds=scan_mid)\n",
    "        \n",
    "        # Satellite height\n",
    "        sat_h = C.variables['goes_imager_projection'].perspective_point_height\n",
    "        \n",
    "        # Satellite longitude\n",
    "        sat_lon = C.variables['goes_imager_projection'].longitude_of_projection_origin\n",
    "        \n",
    "        # Satellite sweep\n",
    "        sat_sweep = C.variables['goes_imager_projection'].sweep_angle_axis\n",
    "        \n",
    "        # The projection x and y coordinates equals the scanning angle (in radians) multiplied by\n",
    "        # the satellite height (https://proj.org/operations/projections/geos.html)\n",
    "        x = C.variables['x'][:] * sat_h\n",
    "        y = C.variables['y'][:] * sat_h\n",
    "        \n",
    "        # map object with pyproj\n",
    "        p = Proj(proj='geos', h=sat_h, lon_0=sat_lon, sweep=sat_sweep)\n",
    "        \n",
    "        # to latitude and longitude values.\n",
    "        XX, YY = np.meshgrid(x, y)\n",
    "        lons, lats = p(XX, YY, inverse=True)\n",
    "        \n",
    "        # Location of California\n",
    "        l = {'latitude': 37.75,\n",
    "             'longitude': -120.5}\n",
    "        \n",
    "        # Draw zoomed map\n",
    "        m = Basemap(resolution='i', projection='cyl', area_thresh=50000, llcrnrlon=l['longitude'] - 5,\n",
    "                    llcrnrlat=l['latitude'] - 5,\n",
    "                    urcrnrlon=l['longitude'] + 5, urcrnrlat=l['latitude'] + 5, )\n",
    "        \n",
    "        # We need an array the shape of the data, so use R. The color of each pixel will be set by color=colorTuple.\n",
    "        #newmap = m.pcolormesh(lons, lats, R, color=colorTuple, linewidth=0, latlon=True)\n",
    "        #newmap.set_array(None)  # Without this line the RGB colorTuple is ignored and only R is plotted.\n",
    "        \n",
    "        plt.figure(figsize=[15, 12])\n",
    "        \n",
    "        newmap = m.pcolormesh(lons, lats, composite_img['R'], color=composite_img['rgb_tuple'], linewidth=0, latlon=True)\n",
    "        newmap.set_array(None)\n",
    "        \n",
    "        plt.title('GOES-17 Fire Detection', loc='left', fontweight='semibold', fontsize=15)\n",
    "        plt.title('%s' % scan_start.strftime('%d %B %Y %H:%M UTC'), loc='right');\n",
    "        \n",
    "        m.drawcountries()\n",
    "        m.drawstates()\n",
    "        m.drawcounties(color='darkred')\n",
    "        \n",
    "        \n",
    "        x2, y2 = m([i[0] for i in map_lnglat], [i[1] for i in map_lnglat])\n",
    "        # PLACE RED DOT ON CENTER POINT OF OF VALID PIXEL\n",
    "        m.plot(x2, y2, 'ro', markersize=2)\n",
    "        for x2, y2 in zip(x2,y2):\n",
    "            fire_circle = Circle(xy=m(x2, y2), radius=0.2, fill=False, color='r', linewidth=2)\n",
    "            plt.gca().add_patch(fire_circle)\n",
    "        \n",
    "        curDir = os.path.dirname(os.getcwd())\n",
    "        imgDir = os.path.join(curDir, 'processed_images')\n",
    "        imgFile = DATE.strftime('%d_%B_%Y_%H%M') + '.png'\n",
    "        buf = io.BytesIO()\n",
    "        plt.savefig(buf, bbox_inches='tight', format='png')\n",
    "        buf.seek(0)\n",
    "        plt.show()\n",
    "        \n",
    "        \n",
    "        # Store image into database\n",
    "        ablob = buf.getvalue()\n",
    "        sql = '''INSERT INTO goes_r_images (fire_temp_image, scan_dt, s3_filename) VALUES (?, ?, ?)'''\n",
    "        CONN.execute(sql, [ablob, DATE, FILE])\n",
    "        CONN.commit()\n",
    "        buf.close()"
   ],
   "metadata": {
    "collapsed": false,
    "pycharm": {
     "name": "#%%\n"
    }
   }
  },
  {
   "cell_type": "code",
   "execution_count": null,
   "outputs": [],
   "source": [
    "if alert_num > 0:\n",
    "    frames = []\n",
    "    cursor = CONN.cursor()\n",
    "    one_hour = fdfc_DATE - timedelta(hours=1)\n",
    "    sql = \"SELECT scan_dt FROM goes_r_images WHERE scan_dt <= ? AND scan_dt >= ?\"\n",
    "    cursor.execute(sql, [fdfc_DATE, one_hour])\n",
    "    timestamps = list(cursor.fetchall())\n",
    "    for imgtime in timestamps:\n",
    "        sql = \"SELECT fire_temp_image FROM goes_r_images WHERE scan_dt = ?\"\n",
    "        cursor.execute(sql, imgtime)\n",
    "        imgFile = cursor.fetchone()\n",
    "        img = Image.open(io.BytesIO(imgFile[0]))\n",
    "        frames.append(img)\n",
    "    try:\n",
    "        imageio.mimwrite('fire_cur.mp4', frames, fps=5)\n",
    "    except:\n",
    "        print(\"NO IMAGES TO PROCESS.\")\n",
    "    with open('fire_cur.mp4', 'rb') as gif:\n",
    "        ablob = gif.read()\n",
    "        sql = '''UPDATE goes_r_images SET fire_temp_gif = ? WHERE scan_dt = ?'''\n",
    "        cursor.execute(sql, [sqlite3.Binary(ablob), timestamps[-1][0]])\n",
    "        CONN.commit()\n",
    "print(\"COMPLETE!\")\n",
    "CONN.close()\n"
   ],
   "metadata": {
    "collapsed": false,
    "pycharm": {
     "name": "#%%\n"
    }
   }
  },
  {
   "cell_type": "markdown",
   "source": [
    "If we had used the for loop above, we would have a video with more than one frame. \n",
    "<div align=\"left\">\n",
    "<video src=\"fire_cur_jupyter.mp4\" type=\"video/mp4\" width=\"300\" controls /></video></div>"
   ],
   "metadata": {
    "collapsed": false,
    "pycharm": {
     "name": "#%% md\n"
    }
   }
  }
 ],
 "metadata": {
  "language_info": {
   "codemirror_mode": {
    "name": "ipython",
    "version": 2
   },
   "file_extension": ".py",
   "mimetype": "text/x-python",
   "name": "python",
   "nbconvert_exporter": "python",
   "pygments_lexer": "ipython2",
   "version": "2.7.6"
  },
  "kernelspec": {
   "name": "pycharm-25a200df",
   "language": "python",
   "display_name": "PyCharm (GOES_R)"
  },
  "pycharm": {
   "stem_cell": {
    "cell_type": "raw",
    "source": [],
    "metadata": {
     "collapsed": false
    }
   }
  }
 },
 "nbformat": 4,
 "nbformat_minor": 0
}